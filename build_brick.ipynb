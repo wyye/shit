{
 "cells": [
  {
   "cell_type": "code",
   "execution_count": 1,
   "metadata": {
    "collapsed": false
   },
   "outputs": [],
   "source": [
    "import root_numpy\n",
    "import numpy as np\n",
    "import matplotlib.pyplot as plt\n",
    "import matplotlib.lines as lines\n",
    "import matplotlib as mpl\n",
    "from mpl_toolkits.mplot3d import Axes3D"
   ]
  },
  {
   "cell_type": "code",
   "execution_count": 2,
   "metadata": {
    "collapsed": false
   },
   "outputs": [],
   "source": [
    "plt.rcParams[\"figure.figsize\"] = (12, 9)\n",
    "#%matplotlib notebook"
   ]
  },
  {
   "cell_type": "markdown",
   "metadata": {},
   "source": [
    "Габариты кирпича: 12.4 см, 9.9 см, 7.5 см (не совпадает с данными) \n",
    "\n",
    "Z координата кирпича: 1293p, где p - индекс кирпича (48, 49, ...)\n",
    "\n",
    "Все длины даны в мкм\n",
    "\n",
    "Углы ограничены 30 градусами"
   ]
  },
  {
   "cell_type": "markdown",
   "metadata": {},
   "source": [
    "не берем 57й кирпич, потому что у него размеры по x и y не совпадают с другими"
   ]
  },
  {
   "cell_type": "code",
   "execution_count": 3,
   "metadata": {
    "collapsed": false
   },
   "outputs": [
    {
     "ename": "OSError",
     "evalue": "unable to access tree 'couples' in data-2016/129294.48.1.1000.cp.root",
     "output_type": "error",
     "traceback": [
      "\u001b[0;31m---------------------------------------------------------------------------\u001b[0m",
      "\u001b[0;31mOSError\u001b[0m                                   Traceback (most recent call last)",
      "\u001b[0;32m<ipython-input-3-45ced39ff4ff>\u001b[0m in \u001b[0;36m<module>\u001b[0;34m()\u001b[0m\n\u001b[1;32m      6\u001b[0m     bricks[ind] = root_numpy.root2array(\"data-2016/129294.{p}.1.1000.cp.root\".format(p=ind), \n\u001b[1;32m      7\u001b[0m                                    \u001b[0mtreename\u001b[0m\u001b[0;34m=\u001b[0m\u001b[0;34m\"couples\"\u001b[0m\u001b[0;34m,\u001b[0m\u001b[0;34m\u001b[0m\u001b[0m\n\u001b[0;32m----> 8\u001b[0;31m                                    branches=[\"s.eX\", \"s.eY\", \"s.eZ\", \"s.eTX\", \"s.eTY\",\"s.eChi2\"], step=1000)\n\u001b[0m",
      "\u001b[0;32m/opt/conda/lib/python3.4/site-packages/root_numpy/_tree.py\u001b[0m in \u001b[0;36mroot2array\u001b[0;34m(filenames, treename, branches, selection, start, stop, step, include_weight, weight_name)\u001b[0m\n\u001b[1;32m    203\u001b[0m         \u001b[0mstart\u001b[0m\u001b[0;34m,\u001b[0m \u001b[0mstop\u001b[0m\u001b[0;34m,\u001b[0m \u001b[0mstep\u001b[0m\u001b[0;34m,\u001b[0m\u001b[0;34m\u001b[0m\u001b[0m\n\u001b[1;32m    204\u001b[0m         \u001b[0minclude_weight\u001b[0m\u001b[0;34m,\u001b[0m\u001b[0;34m\u001b[0m\u001b[0m\n\u001b[0;32m--> 205\u001b[0;31m         weight_name)\n\u001b[0m\u001b[1;32m    206\u001b[0m \u001b[0;34m\u001b[0m\u001b[0m\n\u001b[1;32m    207\u001b[0m     \u001b[0;32mif\u001b[0m \u001b[0mflatten\u001b[0m\u001b[0;34m:\u001b[0m\u001b[0;34m\u001b[0m\u001b[0m\n",
      "\u001b[0;32mtree.pyx\u001b[0m in \u001b[0;36m_librootnumpy.root2array_fromFname (root_numpy/src/_librootnumpy.cpp:352)\u001b[0;34m()\u001b[0m\n",
      "\u001b[0;31mOSError\u001b[0m: unable to access tree 'couples' in data-2016/129294.48.1.1000.cp.root"
     ]
    }
   ],
   "source": [
    "first, last = 48, 57\n",
    "h = 1293\n",
    "bricks = {}\n",
    "\n",
    "for ind in range(first, last):\n",
    "    bricks[ind] = root_numpy.root2array(\"data-2016/129294.{p}.1.1000.cp.root\".format(p=ind), \n",
    "                                   treename=\"couples\", \n",
    "                                   branches=[\"s.eX\", \"s.eY\", \"s.eZ\", \"s.eTX\", \"s.eTY\",\"s.eChi2\"], step=1000)"
   ]
  },
  {
   "cell_type": "code",
   "execution_count": null,
   "metadata": {
    "collapsed": true
   },
   "outputs": [],
   "source": [
    "mc = root_numpy.root2array(\"data-2016/mcdata_taue2.root\",\n",
    "                           treename=\"Data\",\n",
    "                           branches=[\"Event_id\", \"ele_P\",\n",
    "                                     \"BT_X\", \"BT_Y\", \"BT_Z\",\n",
    "                                     \"BT_SX\", \"BT_SY\",\n",
    "                                     \"ele_x\", \"ele_y\", \"ele_z\",\n",
    "                                     \"ele_sx\", \"ele_sy\",\n",
    "                                     \"chisquare\"])"
   ]
  },
  {
   "cell_type": "markdown",
   "metadata": {},
   "source": [
    "в фоне Z компонента везде нулевая"
   ]
  },
  {
   "cell_type": "markdown",
   "metadata": {
    "collapsed": true
   },
   "source": [
    "Строим кирпичи, Z кирпичей: $1293p$, где $p =48,49,...,57$"
   ]
  },
  {
   "cell_type": "code",
   "execution_count": null,
   "metadata": {
    "collapsed": false,
    "scrolled": true
   },
   "outputs": [],
   "source": [
    "z0 = 1293 * first\n",
    "zn = 1293 * last\n",
    "z_total = zn - z0\n",
    "      \n",
    "print(z0, zn, z_total)"
   ]
  },
  {
   "cell_type": "markdown",
   "metadata": {},
   "source": [
    "определяем в каких пределах лежат x и y"
   ]
  },
  {
   "cell_type": "code",
   "execution_count": null,
   "metadata": {
    "collapsed": false,
    "scrolled": false
   },
   "outputs": [],
   "source": [
    "min_x = bricks[first][0][0]\n",
    "max_x = bricks[first][0][0]\n",
    "min_y = bricks[first][0][1]\n",
    "max_y = bricks[first][0][1]\n",
    "min_tx = bricks[first][0][2]\n",
    "max_tx = bricks[first][0][2]\n",
    "min_ty = bricks[first][0][3]\n",
    "max_ty = bricks[first][0][3]\n",
    "\n",
    "for brick in bricks:\n",
    "    for point in bricks[brick]:\n",
    "        x, y = point[0], point[1]\n",
    "        tx, ty = point[3], point[4]\n",
    "        if (x < min_x): min_x = x\n",
    "        if (x > max_x): max_x = x\n",
    "        if (y < min_y): min_y = y\n",
    "        if (y > max_y): max_y = y\n",
    "        if (tx < min_tx): min_tx = tx\n",
    "        if (tx > max_tx): max_tx = tx\n",
    "        if (ty < min_ty): min_ty = ty\n",
    "        if (ty > max_ty): max_ty = ty\n",
    "print(\"min_x: \", min_x)\n",
    "print(\"max_x: \", max_x)\n",
    "print(\"min_y: \", min_y)\n",
    "print(\"max_y: \", max_y)\n",
    "print(\"min_tx: \", min_tx)\n",
    "print(\"max_tx: \", max_tx)\n",
    "print(\"min_ty: \", min_ty)\n",
    "print(\"max_ty: \", max_ty)"
   ]
  },
  {
   "cell_type": "code",
   "execution_count": null,
   "metadata": {
    "collapsed": false
   },
   "outputs": [],
   "source": [
    "print('pi / 4: ', np.pi / 4)\n",
    "print('pi / 6: ', np.pi / 6)\n",
    "print('tg(pi / 4): ', np.tan(np.pi / 4))\n",
    "print('tg(pi / 6): ', np.tan(np.pi / 6))"
   ]
  },
  {
   "cell_type": "markdown",
   "metadata": {},
   "source": [
    "углы по TX и TY даны судя по всему в радианах в промежутке $(-pi/4, pi/4)$\n",
    "\n",
    "(хотя оговаривалось, что углы в промежутке (-30, 30))"
   ]
  },
  {
   "cell_type": "code",
   "execution_count": null,
   "metadata": {
    "collapsed": false
   },
   "outputs": [],
   "source": [
    "print(\"x width, cm: \", (max_x - min_x) / 10 ** 4)\n",
    "print(\"y width, cm: \", (max_y - min_y) / 10 ** 4)"
   ]
  },
  {
   "cell_type": "markdown",
   "metadata": {},
   "source": [
    "переведем ливни в удобный формат"
   ]
  },
  {
   "cell_type": "code",
   "execution_count": null,
   "metadata": {
    "collapsed": false
   },
   "outputs": [],
   "source": [
    "showers = []\n",
    "\n",
    "for smc in mc:\n",
    "    xs = smc[2]\n",
    "    ys = smc[3]\n",
    "    zs = smc[4]\n",
    "    txs = smc[5]\n",
    "    tys = smc[6]\n",
    "    xe = h * 0.5 * np.tan(txs)\n",
    "    ye = h * 0.5 * np.tan(tys)\n",
    "    ze = h * 0.5 * np.ones(len(xs))\n",
    "    showers.append({'x': xs, 'y': ys, 'z': zs, 'dx': xe, 'dy': ye, 'dz': ze})"
   ]
  },
  {
   "cell_type": "markdown",
   "metadata": {},
   "source": [
    "Чему равно расстояние между координатами по Z в ливнях (должно быть 1293)?\n",
    "В каких промежутках находятся координаты в ливнях?\n",
    "Сколько слоев в ливнях?"
   ]
  },
  {
   "cell_type": "code",
   "execution_count": null,
   "metadata": {
    "collapsed": false
   },
   "outputs": [],
   "source": [
    "sh_dz = []\n",
    "\n",
    "sh_z_min = showers[0]['z'][0]\n",
    "sh_z_max = showers[0]['z'][0]\n",
    "sh_x_min = showers[0]['x'][0]\n",
    "sh_x_max = showers[0]['x'][0]\n",
    "sh_y_min = showers[0]['y'][0]\n",
    "sh_y_max = showers[0]['y'][0]\n",
    "\n",
    "for shower in showers:\n",
    "    j = 0\n",
    "    for i in range(len(shower['z'])):\n",
    "        if shower['z'][i] < sh_z_min: sh_z_min = shower['z'][i]\n",
    "        if shower['z'][i] > sh_z_max: sh_z_max = shower['z'][i]\n",
    "        if shower['x'][i] < sh_x_min: sh_x_min = shower['x'][i]\n",
    "        if shower['x'][i] > sh_x_max: sh_x_max = shower['x'][i]\n",
    "        if shower['y'][i] < sh_y_min: sh_y_min = shower['y'][i]\n",
    "        if shower['y'][i] > sh_y_max: sh_y_max = shower['y'][i]\n",
    "        if 500 < shower['z'][i] - shower['z'][j] < 2000:\n",
    "            sh_dz.append(shower['z'][i] - shower['z'][j])\n",
    "            j = i\n",
    "        if shower['z'][i] - shower['z'][j] >= 2000:\n",
    "            j = i\n",
    "            # check that there is no shower with higher distance\n",
    "        if 20 < shower['z'][i] - shower['z'][j] < 1200:\n",
    "            print(\"!!!\", shower['z'][i], shower['z'][j])\n",
    "            # check that there is no shower inside brick volume\n",
    "sh_m_dz = np.mean(sh_dz)\n",
    "sh_layers = int((sh_z_max - sh_z_min)/sh_m_dz)\n",
    "print('dz: ', sh_m_dz)\n",
    "print('sh_z_min: ', sh_z_min)\n",
    "print('sh_z_max: ', sh_z_max)\n",
    "print('sh_x_min: ', sh_x_min)\n",
    "print('sh_x_max: ', sh_x_max)\n",
    "print('sh_y_min: ', sh_y_min)\n",
    "print('sh_y_max: ', sh_y_max)\n",
    "print('shower_layers: ', sh_layers)"
   ]
  },
  {
   "cell_type": "markdown",
   "metadata": {},
   "source": [
    "По видимому, на самом деле расстояние - 1273"
   ]
  },
  {
   "cell_type": "markdown",
   "metadata": {},
   "source": [
    "Плоскость XZ"
   ]
  },
  {
   "cell_type": "markdown",
   "metadata": {},
   "source": [
    "конвертируем в удобный формат, считаем расстояние между кирпичами - 0.5, примерно как на слайдах"
   ]
  },
  {
   "cell_type": "code",
   "execution_count": null,
   "metadata": {
    "collapsed": false
   },
   "outputs": [],
   "source": [
    "data = []\n",
    "\n",
    "for brick in bricks:\n",
    "    nbr = len(bricks[brick])\n",
    "    xs = np.zeros(nbr)\n",
    "    ys = np.zeros(nbr)\n",
    "    zs = h * brick * np.ones(nbr)\n",
    "    txs = np.zeros(nbr)\n",
    "    tys = np.zeros(nbr)\n",
    "    for i in range(nbr):\n",
    "        p = bricks[brick][i]\n",
    "        xs[i] = p[0]\n",
    "        ys[i] = p[1]\n",
    "        txs[i] = p[3]\n",
    "        tys[i] = p[4]\n",
    "    xe = h * 0.5 * np.tan(txs)\n",
    "    ye = h * 0.5 * np.tan(tys)\n",
    "    ze = h * 0.5 * np.ones(nbr)\n",
    "    data.append({'x': xs, 'y': ys, 'z': zs, 'dx': xe, 'dy': ye, 'dz': ze})"
   ]
  },
  {
   "cell_type": "markdown",
   "metadata": {},
   "source": [
    "Строим проекцию шума на плоскость XZ"
   ]
  },
  {
   "cell_type": "code",
   "execution_count": null,
   "metadata": {
    "collapsed": false
   },
   "outputs": [],
   "source": [
    "%%time\n",
    "\n",
    "quiverargs = dict(color='b', scale_units='xy', angles='xy', \n",
    "                  scale=1, headlength=0, headwidth=1, minlength=0,\n",
    "                  headaxislength=0, width=0.0004)\n",
    "\n",
    "for d in data:\n",
    "    plt.quiver(d['z'], d['x'], d['dz'], d['dx'], **quiverargs)\n",
    "plt.show()"
   ]
  },
  {
   "cell_type": "markdown",
   "metadata": {},
   "source": [
    "плоскость YZ"
   ]
  },
  {
   "cell_type": "code",
   "execution_count": null,
   "metadata": {
    "collapsed": false
   },
   "outputs": [],
   "source": [
    "%%time\n",
    "\n",
    "quiverargs = dict(color='b', scale_units='xy', angles='xy', \n",
    "                  scale=1, headlength=0, headwidth=1, minlength=0,\n",
    "                  headaxislength=0, width=0.0004)\n",
    "\n",
    "for d in data:\n",
    "    plt.quiver(d['z'], d['y'], d['dz'], d['dy'], **quiverargs)\n",
    "plt.show()"
   ]
  },
  {
   "cell_type": "markdown",
   "metadata": {},
   "source": [
    "плоскость XY, умножим длину на 2, чтобы было лучше видно"
   ]
  },
  {
   "cell_type": "code",
   "execution_count": null,
   "metadata": {
    "collapsed": false
   },
   "outputs": [],
   "source": [
    "%%time\n",
    "\n",
    "quiverargs = dict(color='b', scale_units='xy', angles='xy', \n",
    "                  scale=1, headlength=0, headwidth=1, minlength=0, \n",
    "                  headaxislength=0, width=0.003)\n",
    "\n",
    "for d in data:\n",
    "    plt.quiver(d['x'], d['y'], 2 * d['dx'], 2 * d['dy'], **quiverargs)\n",
    "plt.show()"
   ]
  },
  {
   "cell_type": "markdown",
   "metadata": {},
   "source": [
    "Кирпичи в 3D"
   ]
  },
  {
   "cell_type": "code",
   "execution_count": null,
   "metadata": {
    "collapsed": false,
    "scrolled": false
   },
   "outputs": [],
   "source": [
    "%%time\n",
    "\n",
    "fig = plt.figure()\n",
    "ax = fig.gca(projection='3d')\n",
    "ax.view_init(elev=10, azim=-85)\n",
    "\n",
    "np.random.seed(123)\n",
    "\n",
    "c = 0\n",
    "    \n",
    "for d in data:\n",
    "    ax.quiver(d['z'], d['y'], d['x'], d['dz'], d['dy'], d['dx'], \n",
    "              colors=np.repeat(np.random.rand(1, 3), len(d['x']), axis=0), arrow_length_ratio=0, linewidths=0.7)\n",
    "plt.show()"
   ]
  },
  {
   "cell_type": "markdown",
   "metadata": {},
   "source": [
    "Немного ливней в 3D"
   ]
  },
  {
   "cell_type": "code",
   "execution_count": null,
   "metadata": {
    "collapsed": false,
    "scrolled": false
   },
   "outputs": [],
   "source": [
    "%%time\n",
    "\n",
    "np.random.seed(123)\n",
    "\n",
    "fig = plt.figure()\n",
    "ax = fig.gca(projection='3d')\n",
    "\n",
    "ax.view_init(elev=20, azim=-70)\n",
    "\n",
    "i = 0\n",
    "for s in showers:\n",
    "    ax.quiver(s['z'], s['y'], s['x'], s['dz'], s['dy'], s['dx'], color=(np.random.rand(1,3)), arrow_length_ratio=0, linewidths=0.5)\n",
    "    i += 1\n",
    "    if i == 50:\n",
    "        break\n",
    "plt.show()"
   ]
  },
  {
   "cell_type": "markdown",
   "metadata": {},
   "source": [
    "#### Теперь понятно что за данные, отмасштабируем их в кубы [0.0, 1.0], 10 слоев, расстояние между слоями: 0.1"
   ]
  },
  {
   "cell_type": "code",
   "execution_count": null,
   "metadata": {
    "collapsed": false
   },
   "outputs": [],
   "source": [
    "first, last = 48, 58\n",
    "h = 1293\n",
    "bricks = {}\n",
    "\n",
    "for ind in range(first, last):\n",
    "    bricks[ind - first] = root_numpy.root2array(\"data-2016/129294.{p}.1.1000.cp.root\".format(p=ind), \n",
    "                                   treename=\"couples\", \n",
    "                                   branches=[\"s.eX\", \"s.eY\", \"s.eZ\", \"s.eTX\", \"s.eTY\",\"s.eChi2\"])"
   ]
  },
  {
   "cell_type": "code",
   "execution_count": null,
   "metadata": {
    "collapsed": true
   },
   "outputs": [],
   "source": [
    "mc = root_numpy.root2array(\"data-2016/mcdata_taue2.root\",\n",
    "                           treename=\"Data\",\n",
    "                           branches=[\"Event_id\", \"ele_P\",\n",
    "                                     \"BT_X\", \"BT_Y\", \"BT_Z\",\n",
    "                                     \"BT_SX\", \"BT_SY\",\n",
    "                                     \"ele_x\", \"ele_y\", \"ele_z\",\n",
    "                                     \"ele_sx\", \"ele_sy\",\n",
    "                                     \"chisquare\"])"
   ]
  },
  {
   "cell_type": "code",
   "execution_count": null,
   "metadata": {
    "collapsed": true
   },
   "outputs": [],
   "source": [
    "def normalize(a):\n",
    "    return (a - np.amin(a))/(np.amax(a) - np.amin(a))\n",
    "\n",
    "def normalize_mm(a, minn, maxx):\n",
    "    return (a - minn)/(maxx - minn)"
   ]
  },
  {
   "cell_type": "code",
   "execution_count": null,
   "metadata": {
    "collapsed": false
   },
   "outputs": [],
   "source": [
    "sh_norm = []\n",
    "\n",
    "for smc in mc:\n",
    "    if (len(smc[2]) <= 1):\n",
    "        continue\n",
    "    xs = normalize_mm(smc[2], sh_x_min, sh_x_max)\n",
    "    ys = normalize_mm(smc[3], sh_y_min, sh_y_max)\n",
    "    zs = np.round((smc[4] - smc[4][0]) / h) * 0.1\n",
    "    txs = smc[5]\n",
    "    tys = smc[6]\n",
    "    xe = 0.1 * 0.5 * np.tan(txs)\n",
    "    ye = 0.1 * 0.5 * np.tan(tys)\n",
    "    ze = 0.1 * 0.5 * np.ones(len(xs))\n",
    "    sh_norm.append({'x': xs, 'y': ys, 'z': zs, 'dx': xe, 'dy': ye, 'dz': ze})"
   ]
  },
  {
   "cell_type": "code",
   "execution_count": null,
   "metadata": {
    "collapsed": false
   },
   "outputs": [],
   "source": [
    "%%time\n",
    "\n",
    "np.random.seed(123)\n",
    "\n",
    "fig = plt.figure()\n",
    "ax = fig.gca(projection='3d')\n",
    "\n",
    "ax.view_init(elev=20, azim=-70)\n",
    "\n",
    "i = 0\n",
    "for s in sh_norm:\n",
    "    ax.quiver(s['z'], s['y'], s['x'], s['dz'], s['dy'], s['dx'], color=(np.random.rand(1,3)), arrow_length_ratio=0, linewidths=0.5)\n",
    "    i += 1\n",
    "    if i > 20:\n",
    "        break\n",
    "plt.show()"
   ]
  },
  {
   "cell_type": "code",
   "execution_count": null,
   "metadata": {
    "collapsed": true
   },
   "outputs": [],
   "source": [
    "data_norm = []\n",
    "\n",
    "for brick in bricks:\n",
    "    nbr = len(bricks[brick])\n",
    "    xs = np.zeros(nbr)\n",
    "    ys = np.zeros(nbr)\n",
    "    zs = 0.1 * brick * np.ones(nbr)\n",
    "    txs = np.zeros(nbr)\n",
    "    tys = np.zeros(nbr)\n",
    "    for i in range(nbr):\n",
    "        p = bricks[brick][i]\n",
    "        xs[i] = p[0]\n",
    "        ys[i] = p[1]\n",
    "        txs[i] = p[3]\n",
    "        tys[i] = p[4]\n",
    "    xs = normalize(xs)\n",
    "    ys = normalize(ys)\n",
    "    xe = 0.1 * 0.5 * np.tan(txs)\n",
    "    ye = 0.1 * 0.5 * np.tan(tys)\n",
    "    ze = 0.1 * 0.5 * np.ones(nbr)\n",
    "    data_norm.append({'x': xs, 'y': ys, 'z': zs, 'dx': xe, 'dy': ye, 'dz': ze})"
   ]
  },
  {
   "cell_type": "markdown",
   "metadata": {},
   "source": [
    "Если много оперативки и не лень подождать, то можно раскомментировать"
   ]
  },
  {
   "cell_type": "code",
   "execution_count": null,
   "metadata": {
    "collapsed": false
   },
   "outputs": [],
   "source": [
    "#%%time\n",
    "\n",
    "#fig = plt.figure()\n",
    "#ax = fig.gca(projection='3d')\n",
    "#ax.view_init(elev=10, azim=-85)\n",
    "\n",
    "#np.random.seed(123)\n",
    "    \n",
    "#for d in data_norm:\n",
    "#    ax.quiver(d['z'][::1000], d['y'][::1000], d['x'][::1000], d['dz'][::1000], d['dy'][::1000], d['dx'][::1000], \n",
    "#              colors=np.repeat(np.random.rand(1, 3), len(d['x']), axis=0), arrow_length_ratio=0, linewidths=0.7)\n",
    "#plt.show()"
   ]
  },
  {
   "cell_type": "markdown",
   "metadata": {},
   "source": [
    "функция, которая принимает массив из начальных координат ливней (x,y,layer_num) (x,y в отрезке [0.0, 1.0], layer_num - целое число, может быть отрицательным, не больше количества кирпичей (10) ) и соотношение между числом черточек ливней к числу черточек фонового сигнала, возвращает пару: 1. массив слоев, внутри кажого слоя массив координат (x,y,z,dx,dy,dz) фонового сигнала, 2. массив ливней, внутри каждого один ливень с координатами ливней (x,y,z,dx,dy,dz). координаты в отрезке [0.0,1.0]"
   ]
  },
  {
   "cell_type": "code",
   "execution_count": null,
   "metadata": {
    "collapsed": false
   },
   "outputs": [],
   "source": [
    "def F(origins, ratio):\n",
    "    # showers\n",
    "    nshowers = len(origins)\n",
    "    sh_copy = np.copy(sh_norm)\n",
    "    np.random.shuffle(sh_copy)\n",
    "    use_showers = sh_copy[:nshowers]\n",
    "    gen_sh = []\n",
    "    for i in range(nshowers):\n",
    "        x = origins[i][0] + (use_showers[i]['x'] - use_showers[i]['x'][0])\n",
    "        y = origins[i][1] + (use_showers[i]['y'] - use_showers[i]['y'][0])\n",
    "        z = use_showers[i]['z'] - use_showers[i]['z'][0]\n",
    "        if (origins[i][2] >= 10):\n",
    "            raise Exception('Origin Z out of range, must be less than 10, shower', i)\n",
    "        zmax = np.amax(z)\n",
    "        if zmax + 0.1 * origins[i][2] < 0.85: # must be less than 0.9\n",
    "            o2 = 0.9 - zmax\n",
    "            print('WARN not enough layers in shower %d, changing origin to %d' % (i, int(o2 / 0.1)))\n",
    "        else:\n",
    "            o2 = origins[i][2] * 0.1\n",
    "        z += o2\n",
    "        dx = use_showers[i]['dx']\n",
    "        dy = use_showers[i]['dy']\n",
    "        dz = use_showers[i]['dz']\n",
    "        # drop values out of [0,1]\n",
    "        res = []\n",
    "        for i in range(len(x)):\n",
    "            if (0 <= x[i] <= 1 and 0 <= y[i] <= 1 and -0.01 <= z[i] <= 0.91):\n",
    "                res.append([x[i], y[i], z[i], dx[i], dy[i], dz[i]])\n",
    "        if len(res) != 0:\n",
    "            gen_sh.append(np.transpose(res))\n",
    "    # bricks\n",
    "    total_sh = 0\n",
    "    total_br = 0\n",
    "    for s in gen_sh:\n",
    "        total_sh += s.shape[1]\n",
    "    data_copy = np.copy(data_norm)\n",
    "    for d in data_copy:\n",
    "        total_br += len(d['x'])\n",
    "    use_br = total_sh / ratio\n",
    "    use_ratio = use_br / total_br\n",
    "    if use_ratio > 1:\n",
    "        use_ratio = 1\n",
    "    print(use_ratio)\n",
    "    gen_br = []\n",
    "    for d in range(len(data_copy)):\n",
    "        res = []\n",
    "        dd = data_copy[d]\n",
    "        for i in range(len(dd['x'])):\n",
    "            #if (0 <= dd['x'][i] <= 1 and 0 <= dd['y'][i] <= 1 and -0.01 <= dd['z'][i] <= 0.91):\n",
    "            res.append([dd['x'][i], dd['y'][i], dd['z'][i], dd['dx'][i], dd['dy'][i], dd['dz'][i]])\n",
    "        np.random.shuffle(res)\n",
    "        use_l_br = int(len(dd['x']) * use_ratio)\n",
    "        print('Layer points:', use_l_br)\n",
    "        res = np.copy(res[:use_l_br])\n",
    "        res = np.transpose(res)\n",
    "        gen_br.append(res)\n",
    "    return gen_br, gen_sh"
   ]
  },
  {
   "cell_type": "code",
   "execution_count": null,
   "metadata": {
    "collapsed": false
   },
   "outputs": [],
   "source": [
    "origins = [[0.3, 0.3, 0], [0.7, 0.7, 4], [0.5, 0.5, -15], [0.2, 0.4, -7]]\n",
    "np.random.seed(345)\n",
    "brick, show = F(origins, 0.05)"
   ]
  },
  {
   "cell_type": "markdown",
   "metadata": {},
   "source": [
    "Финальный результат в 3D"
   ]
  },
  {
   "cell_type": "code",
   "execution_count": null,
   "metadata": {
    "collapsed": false
   },
   "outputs": [],
   "source": [
    "%%time\n",
    "np.random.seed(123)\n",
    "\n",
    "fig = plt.figure()\n",
    "ax = fig.gca(projection='3d')\n",
    "ax.set_xlim([0,1])\n",
    "ax.set_ylim([0,1])\n",
    "ax.set_zlim([0,1])\n",
    "\n",
    "ax.view_init(elev=20, azim=-85)\n",
    "ax.set_xlabel('z')\n",
    "ax.set_ylabel('y')\n",
    "ax.set_zlabel('x')\n",
    "\n",
    "for b in brick:\n",
    "    ax.quiver(b[2], b[1], b[0], b[5], b[4], b[3], color='b', arrow_length_ratio=0, linewidths=0.5)\n",
    "\n",
    "for s in show:\n",
    "    ax.quiver(s[2], s[1], s[0], s[5], s[4], s[3], color='r', arrow_length_ratio=0, linewidths=0.5)\n",
    "plt.show()"
   ]
  },
  {
   "cell_type": "markdown",
   "metadata": {},
   "source": [
    "Плоскость XZ"
   ]
  },
  {
   "cell_type": "code",
   "execution_count": null,
   "metadata": {
    "collapsed": false,
    "scrolled": false
   },
   "outputs": [],
   "source": [
    "%%time\n",
    "\n",
    "quiverargs = dict(scale_units='xy', angles='xy', \n",
    "                  scale=1, headlength=0, headwidth=1, minlength=0,\n",
    "                  headaxislength=0, width=0.0004)\n",
    "\n",
    "fig = plt.figure()\n",
    "ax = fig.gca()\n",
    "ax.set_xlim([0,1])\n",
    "ax.set_ylim([0,1])\n",
    "\n",
    "for b in brick:\n",
    "    plt.quiver(b[2], b[0], b[5], b[3], color='b', **quiverargs)\n",
    "for s in show:\n",
    "    ax.quiver(s[2], s[0], s[5], s[3], color='r', **quiverargs)\n",
    "plt.show()"
   ]
  },
  {
   "cell_type": "markdown",
   "metadata": {},
   "source": [
    "Плоскость YZ"
   ]
  },
  {
   "cell_type": "code",
   "execution_count": null,
   "metadata": {
    "collapsed": false,
    "scrolled": false
   },
   "outputs": [],
   "source": [
    "%%time\n",
    "\n",
    "quiverargs = dict(scale_units='xy', angles='xy', \n",
    "                  scale=1, headlength=0, headwidth=1, minlength=0,\n",
    "                  headaxislength=0, width=0.0004)\n",
    "\n",
    "fig = plt.figure()\n",
    "ax = fig.gca()\n",
    "ax.set_xlim([0,1])\n",
    "ax.set_ylim([0,1])\n",
    "\n",
    "for b in brick:\n",
    "    plt.quiver(b[2], b[1], b[5], b[4], color='b', **quiverargs)\n",
    "for s in show:\n",
    "    ax.quiver(s[2], s[1], s[5], s[4], color='r', **quiverargs)\n",
    "plt.show()"
   ]
  },
  {
   "cell_type": "markdown",
   "metadata": {},
   "source": [
    "Плоскость XY"
   ]
  },
  {
   "cell_type": "code",
   "execution_count": null,
   "metadata": {
    "collapsed": false,
    "scrolled": false
   },
   "outputs": [],
   "source": [
    "%%time\n",
    "\n",
    "quiverargs = dict(scale_units='xy', angles='xy', \n",
    "                  scale=1, headlength=0, headwidth=1, minlength=0,\n",
    "                  headaxislength=0, width=0.0004)\n",
    "\n",
    "fig = plt.figure()\n",
    "ax = fig.gca()\n",
    "ax.set_xlim([0,1])\n",
    "ax.set_ylim([0,1])\n",
    "\n",
    "for b in brick:\n",
    "    plt.quiver(b[1], b[0], b[4], b[3], color='b', **quiverargs)\n",
    "for s in show:\n",
    "    ax.quiver(s[1], s[0], s[4], s[3], color='r', **quiverargs)\n",
    "plt.show()"
   ]
  },
  {
   "cell_type": "code",
   "execution_count": null,
   "metadata": {
    "collapsed": true
   },
   "outputs": [],
   "source": []
  },
  {
   "cell_type": "code",
   "execution_count": 4,
   "metadata": {
    "collapsed": true
   },
   "outputs": [],
   "source": [
    "import os"
   ]
  },
  {
   "cell_type": "code",
   "execution_count": 6,
   "metadata": {
    "collapsed": false
   },
   "outputs": [
    {
     "ename": "FileNotFoundError",
     "evalue": "[Errno 2] No such file or directory: 'data-2016/129294.48.1.1000.cp.root'",
     "output_type": "error",
     "traceback": [
      "\u001b[0;31m---------------------------------------------------------------------------\u001b[0m",
      "\u001b[0;31mFileNotFoundError\u001b[0m                         Traceback (most recent call last)",
      "\u001b[0;32m<ipython-input-6-9bf6bec1d896>\u001b[0m in \u001b[0;36m<module>\u001b[0;34m()\u001b[0m\n\u001b[0;32m----> 1\u001b[0;31m \u001b[0mf\u001b[0m \u001b[0;34m=\u001b[0m \u001b[0mopen\u001b[0m\u001b[0;34m(\u001b[0m\u001b[0;34m'data-2016/129294.48.1.1000.cp.root'\u001b[0m\u001b[0;34m)\u001b[0m\u001b[0;34m\u001b[0m\u001b[0m\n\u001b[0m",
      "\u001b[0;31mFileNotFoundError\u001b[0m: [Errno 2] No such file or directory: 'data-2016/129294.48.1.1000.cp.root'"
     ]
    }
   ],
   "source": [
    "f = open('data-2016/129294.48.1.1000.cp.root')"
   ]
  },
  {
   "cell_type": "code",
   "execution_count": 7,
   "metadata": {
    "collapsed": false
   },
   "outputs": [
    {
     "name": "stdout",
     "output_type": "stream",
     "text": [
      "build_brick.ipynb  env.yml.bak\t\t       read_data.md  start-notebook.sh\r\n",
      "Dockerfile\t   jupyter_notebook_config.py  README.md\r\n",
      "environment.yml    LICENSE\t\t       run_local.sh\r\n"
     ]
    }
   ],
   "source": [
    "!ls"
   ]
  },
  {
   "cell_type": "code",
   "execution_count": null,
   "metadata": {
    "collapsed": true
   },
   "outputs": [],
   "source": []
  }
 ],
 "metadata": {
  "kernelspec": {
   "display_name": "Python 3",
   "language": "python",
   "name": "python3"
  },
  "language_info": {
   "codemirror_mode": {
    "name": "ipython",
    "version": 3
   },
   "file_extension": ".py",
   "mimetype": "text/x-python",
   "name": "python",
   "nbconvert_exporter": "python",
   "pygments_lexer": "ipython3",
   "version": "3.4.5"
  }
 },
 "nbformat": 4,
 "nbformat_minor": 2
}
